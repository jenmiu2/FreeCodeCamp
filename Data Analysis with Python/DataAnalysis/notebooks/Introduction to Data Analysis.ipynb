{
 "cells": [
  {
   "cell_type": "markdown",
   "metadata": {},
   "source": [
    "# Definition\n",
    "A process of inspecting, cleansing, transforming and modeling data with the goal of discovering useful information, informing cloncusion and supporting decision-making\n",
    "# Data Analysis Process\n",
    "## Data Extraction\n",
    "- SQL\n",
    "- Scrapping \n",
    "- File Formats (CSV, JSON, XML)\n",
    "- API\n",
    "- Buying Data\n",
    "- Distributed Databases\n",
    "## Data Cleansing\n",
    "- Missing values and empty data\n",
    "- Data imputation\n",
    "- Incorrect types\n",
    "- Incorrect or invalid values\n",
    "- Outliers and non relevant data\n",
    "- Statitical serializaton\n",
    "## Data Wrangling\n",
    "- Hierachical Data\n",
    "- Handling categorical data\n",
    "- Reshaping and transforming sctructures\n",
    "- Indexing data for quick access\n",
    "- Merging, combining and jonining data\n",
    "## Analysis \n",
    "- Exploration\n",
    "- Building statical models\n",
    "- Visualization and representations\n",
    "- Correlation vs causation analysis\n",
    "- Hypothesis testing\n",
    "- Statical analysis\n",
    "- Reporting\n",
    "## Action\n",
    "- Bulding Machine Learning Models\n",
    "- Feature Engineering\n",
    "- Moving ML intro production\n",
    "- Building ETL pipelines\n",
    "- Live dashboard and reporting\n",
    "- Decision making and real-life tests\n",
    "# Libaries\n",
    "- pandas\n",
    "- matplotlib\n",
    "- numpy\n",
    "- seaborn\n",
    "- statsmodels\n",
    "- spicy\n",
    "- scikit-learn"
   ]
  },
  {
   "cell_type": "code",
   "execution_count": null,
   "metadata": {},
   "outputs": [],
   "source": []
  }
 ],
 "metadata": {
  "kernelspec": {
   "display_name": "Python 3",
   "language": "python",
   "name": "python3"
  },
  "language_info": {
   "codemirror_mode": {
    "name": "ipython",
    "version": 3
   },
   "file_extension": ".py",
   "mimetype": "text/x-python",
   "name": "python",
   "nbconvert_exporter": "python",
   "pygments_lexer": "ipython3",
   "version": "3.7.6"
  }
 },
 "nbformat": 4,
 "nbformat_minor": 4
}
